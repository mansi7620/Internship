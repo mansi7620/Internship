{
 "cells": [
  {
   "cell_type": "code",
   "execution_count": 5,
   "id": "ae9c530c-fe88-4991-9f04-90c2914c3542",
   "metadata": {},
   "outputs": [
    {
     "name": "stdout",
     "output_type": "stream",
     "text": [
      "Hello World\n"
     ]
    }
   ],
   "source": [
    "# This is comment\n",
    "# print Hello world\n",
    "\n",
    "print('Hello World')\n"
   ]
  },
  {
   "cell_type": "code",
   "execution_count": 7,
   "id": "d6ee6492-2a81-4619-8490-5ab3aee5b09e",
   "metadata": {},
   "outputs": [
    {
     "name": "stdout",
     "output_type": "stream",
     "text": [
      "6\n",
      "value of b is: 7.5\n",
      "Name of Temple is: Radha krishna\n"
     ]
    }
   ],
   "source": [
    "a=6\n",
    "b=7.5\n",
    "c=\"Radha krishna\"\n",
    "print(a)\n",
    "print(\"value of b is:\",b)\n",
    "print(\"Name of Temple is:\",c)"
   ]
  },
  {
   "cell_type": "code",
   "execution_count": 8,
   "id": "6b55f0a2-afae-45fc-96ca-c49611201e0c",
   "metadata": {},
   "outputs": [
    {
     "name": "stdout",
     "output_type": "stream",
     "text": [
      "Name is :  Lord Ram\n",
      "Name is :  Lord Shiva\n"
     ]
    }
   ],
   "source": [
    "Name=\"Lord Ram\"\n",
    "print(\"Name is : \",Name)\n",
    "#assinging a new value to website\n",
    "Name=\"Lord Shiva\"\n",
    "print(\"Name is : \",Name)"
   ]
  },
  {
   "cell_type": "code",
   "execution_count": 10,
   "id": "8f19302c-e83e-4711-bf77-c952ba8f148b",
   "metadata": {},
   "outputs": [
    {
     "name": "stdout",
     "output_type": "stream",
     "text": [
      "7\n",
      "value of b is: 6.7\n",
      "Name of Temple is: Radha Krishna\n"
     ]
    }
   ],
   "source": [
    "a,b,c=7,6.7,\"Radha Krishna\"\n",
    "\n",
    "print(a)\n",
    "print(\"value of b is:\",b)\n",
    "print(\"Name of Temple is:\",c)"
   ]
  },
  {
   "cell_type": "code",
   "execution_count": 11,
   "id": "2470cd78-42e8-48a0-bbc6-64247eab9e5c",
   "metadata": {},
   "outputs": [
    {
     "name": "stdout",
     "output_type": "stream",
     "text": [
      "value of a is: 7\n",
      "value of b is: 7\n",
      "value of c is: 7\n"
     ]
    }
   ],
   "source": [
    "a=b=c=7\n",
    "print(\"value of a is:\",a)\n",
    "print(\"value of b is:\",b)\n",
    "print(\"value of c is:\",c)"
   ]
  },
  {
   "cell_type": "code",
   "execution_count": 12,
   "id": "e385f41e-cfc0-41f7-a44c-dafa1305c8fb",
   "metadata": {},
   "outputs": [
    {
     "name": "stdout",
     "output_type": "stream",
     "text": [
      "7 is of type <class 'int'>\n",
      "7.5 is of type <class 'float'>\n",
      "7.5 is complex number? False\n",
      "(1+2j) is complex number? True\n"
     ]
    }
   ],
   "source": [
    "m1=7\n",
    "print(m1,\"is of type\", type(m1))\n",
    "\n",
    "m2=7.5\n",
    "print(m2,\"is of type\", type(m2))\n",
    "print(m2,\"is complex number?\", isinstance(7.5, int))\n",
    "\n",
    "m3=1+2j\n",
    "print(m3,\"is complex number?\", isinstance(1+2j, complex))\n"
   ]
  },
  {
   "cell_type": "code",
   "execution_count": 15,
   "id": "a764220e-3690-4588-841d-e8139ef5b7dd",
   "metadata": {},
   "outputs": [
    {
     "name": "stdout",
     "output_type": "stream",
     "text": [
      "Name is  Radha Krishna\n",
      "R\n",
      "adha\n",
      "dha Krishna\n",
      "Radha KrishnaRadha Krishna\n",
      "Radha Krishna is a famous temple\n"
     ]
    }
   ],
   "source": [
    "name=\"Radha Krishna\"\n",
    "\n",
    "#print complete string\n",
    "print(\"Name is \" ,name)\n",
    "\n",
    "#print first character of the string\n",
    "print(name[0])\n",
    "\n",
    "#print character from 2 to 5\n",
    "print(name[1:5])\n",
    "\n",
    "#print string from 3rd character \n",
    "print(name[2:])\n",
    "\n",
    "#print string 2 time\n",
    "print(name*2)\n",
    "\n",
    "#prints concatenated string\n",
    "print(name + \" is a famous temple\")\n"
   ]
  },
  {
   "cell_type": "code",
   "execution_count": 16,
   "id": "29e8692b-33ce-49e1-a6d2-595458e9ddd3",
   "metadata": {},
   "outputs": [
    {
     "name": "stdout",
     "output_type": "stream",
     "text": [
      "[7, 7.5, 'Radha krishna']\n"
     ]
    }
   ],
   "source": [
    "list1=[7,7.5,'Radha krishna']\n",
    "       \n",
    "print(list1)"
   ]
  },
  {
   "cell_type": "code",
   "execution_count": 17,
   "id": "1c2eb8e9-0489-4f02-a48e-531c48a68a86",
   "metadata": {},
   "outputs": [
    {
     "name": "stdout",
     "output_type": "stream",
     "text": [
      "list1[2]=  5\n",
      "list1[0:4]=  [7, 7.5, 5, 'Radha']\n",
      "list1[5:]=  ['krishna', 70]\n"
     ]
    }
   ],
   "source": [
    "list1=[7,7.5,5,'Radha',5.60,'krishna',70]\n",
    "       \n",
    "#list1[2]=[5]\n",
    "print(\"list1[2]= \",list1[2])\n",
    "\n",
    "#list1[0:4]=[7,7.5,5,Radha]\n",
    "print(\"list1[0:4]= \",list1[0:4])\n",
    "\n",
    "#list1[5:]=[5.60,krishna,70]\n",
    "print(\"list1[5:]= \",list1[5:])"
   ]
  },
  {
   "cell_type": "code",
   "execution_count": 18,
   "id": "df048c0c-442f-48f8-b8bc-06d8ea713ad8",
   "metadata": {},
   "outputs": [
    {
     "name": "stdin",
     "output_type": "stream",
     "text": [
      "Enter the number of elements:  2\n",
      "enter value:  Radha 7\n",
      "enter value:  krishna 8\n"
     ]
    },
    {
     "name": "stdout",
     "output_type": "stream",
     "text": [
      "['Radha 7', 'krishna 8']\n"
     ]
    }
   ],
   "source": [
    "#creating an empty list\n",
    "lst=[]\n",
    "\n",
    "#number of elements as input\n",
    "m=int(input(\"Enter the number of elements: \"))\n",
    "\n",
    "#iterating till the range\n",
    "for i in range(0,m):\n",
    "        ele=input(\"enter value: \")\n",
    "        \n",
    "        lst.append(ele)  #adding the element\n",
    "        \n",
    "print(lst)"
   ]
  },
  {
   "cell_type": "code",
   "execution_count": 19,
   "id": "72284189-88e4-4b02-81e1-1ac3d1a5487f",
   "metadata": {},
   "outputs": [
    {
     "name": "stdout",
     "output_type": "stream",
     "text": [
      "(10, 20, 30, 'Radha', 50, 40, 'krishna', 70)\n"
     ]
    }
   ],
   "source": [
    "tuple1=(10,20,30,\"Radha\",50,40,\"krishna\",70)\n",
    "\n",
    "print(tuple1)"
   ]
  },
  {
   "cell_type": "code",
   "execution_count": 20,
   "id": "6954321c-ab1c-4a4f-a9bf-4d5a894fd080",
   "metadata": {},
   "outputs": [
    {
     "name": "stdout",
     "output_type": "stream",
     "text": [
      "tuple1[2]=  5\n",
      "tuple1[0:4]=  (7, 7.5, 5, 'Radha')\n",
      "tuple1[5:]=  ('krishna', 70)\n"
     ]
    }
   ],
   "source": [
    "tuple1=(7,7.5,5,'Radha',5.60,'krishna',70)\n",
    "       \n",
    "#list1[2]=5\n",
    "print(\"tuple1[2]= \",tuple1[2])\n",
    "\n",
    "#tuple1[0:4]=7,7.5,5,Radha\n",
    "print(\"tuple1[0:4]= \",tuple1[0:4])\n",
    "\n",
    "#list1[5:]=5.60,krishna,70\n",
    "print(\"tuple1[5:]= \",tuple1[5:])"
   ]
  },
  {
   "cell_type": "markdown",
   "id": "54276d57-9930-4376-bef9-454a51346839",
   "metadata": {},
   "source": [
    "# lst=[]\n",
    "\n",
    "#number of elements as input\n",
    "m=int(input(\"Enter the number of elements: \"))\n",
    "\n",
    "#iterating till the range\n",
    "for i in range(0,m):\n",
    "        ele=input(\"enter value: \")\n",
    "        \n",
    "        lst.append(ele)  #adding the element\n",
    "        \n",
    "tupl=tuple(lst)      \n",
    "print(lst)\n",
    "print(tupl)"
   ]
  },
  {
   "cell_type": "code",
   "execution_count": 26,
   "id": "81a7ecdf-4fdc-425b-b9f6-86d4128e087e",
   "metadata": {},
   "outputs": [
    {
     "name": "stdout",
     "output_type": "stream",
     "text": [
      "<class 'dict'>\n",
      "d[1]= Radha\n",
      "d[2]= Krishna\n",
      "d['key']= 10\n"
     ]
    }
   ],
   "source": [
    "d={1: 'Radha',2: 'Krishna', 'key':10}\n",
    "print(type(d))\n",
    "\n",
    "print(\"d[1]=\",d[1])\n",
    "print(\"d[2]=\",d[2])\n",
    "print(\"d['key']=\",m['key'])\n"
   ]
  },
  {
   "cell_type": "code",
   "execution_count": 31,
   "id": "69156ac0-7c80-4fa5-b438-0540d20879df",
   "metadata": {},
   "outputs": [
    {
     "name": "stdin",
     "output_type": "stream",
     "text": [
      "Input the total num;  3\n",
      "Enter the key value pair : 5 Radha\n",
      "Enter the key value pair : 7 Krishna\n",
      "Enter the key value pair : m 9\n"
     ]
    },
    {
     "name": "stdout",
     "output_type": "stream",
     "text": [
      "{'5': ['Radha'], '7': ['Krishna'], 'm': ['9']}\n"
     ]
    }
   ],
   "source": [
    "mydict={}\n",
    "for totnum in range(0,int(input('Input the total num; '))):\n",
    "    a,b=input('Enter the key value pair :').split()\n",
    "    if a in mydict:\n",
    "        mydict[a].append(b)\n",
    "    else:\n",
    "            mydict[a]=[b]\n",
    "print(mydict)"
   ]
  },
  {
   "cell_type": "code",
   "execution_count": null,
   "id": "1e4a1b38-3acd-46d1-9202-c22542d98763",
   "metadata": {},
   "outputs": [],
   "source": []
  },
  {
   "cell_type": "code",
   "execution_count": null,
   "id": "751d566b-58f7-4387-a258-0e9c2c0f671c",
   "metadata": {},
   "outputs": [],
   "source": []
  }
 ],
 "metadata": {
  "kernelspec": {
   "display_name": "Python 3",
   "language": "python",
   "name": "python3"
  },
  "language_info": {
   "codemirror_mode": {
    "name": "ipython",
    "version": 3
   },
   "file_extension": ".py",
   "mimetype": "text/x-python",
   "name": "python",
   "nbconvert_exporter": "python",
   "pygments_lexer": "ipython3",
   "version": "3.8.8"
  }
 },
 "nbformat": 4,
 "nbformat_minor": 5
}
