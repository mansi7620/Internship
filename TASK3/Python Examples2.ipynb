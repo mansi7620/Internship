{
 "cells": [
  {
   "cell_type": "code",
   "execution_count": 11,
   "id": "903b1e32",
   "metadata": {},
   "outputs": [
    {
     "name": "stdout",
     "output_type": "stream",
     "text": [
      "enter any number: 5\n",
      "5 is less than 100 and it is odd\n"
     ]
    }
   ],
   "source": [
    "#9.\tTake a number check if a number is less than 100 or not. If it is less than 100 then check if it is odd or even.\n",
    "a = int(input(\"enter any number: \"))\n",
    "if a<100:\n",
    "    if a%2==0:\n",
    "        print(a, \"is less than 100 and it is even\")\n",
    "    else:\n",
    "        print(a, \"is less than 100 and it is odd\")\n",
    "else:\n",
    "     print(a, \"is greater than 100\")"
   ]
  },
  {
   "cell_type": "code",
   "execution_count": 12,
   "id": "029593a2",
   "metadata": {},
   "outputs": [
    {
     "name": "stdout",
     "output_type": "stream",
     "text": [
      "enter any number: 5\n",
      "25\n"
     ]
    }
   ],
   "source": [
    "#10.\tTake a number to print the square of a number if it is less than 10.\n",
    "a = int(input(\"enter any number: \"))\n",
    "if a<10:\n",
    "    print(a*a)\n",
    "else:\n",
    "    print(a,\"is greater than 10\")"
   ]
  },
  {
   "cell_type": "code",
   "execution_count": 13,
   "id": "bcd6a6df",
   "metadata": {},
   "outputs": [
    {
     "name": "stdout",
     "output_type": "stream",
     "text": [
      "enter starting number: 30\n",
      "enter ending number: 0\n",
      "30\n",
      "27\n",
      "24\n",
      "21\n",
      "18\n",
      "15\n",
      "12\n",
      "9\n",
      "6\n",
      "3\n",
      "0\n"
     ]
    }
   ],
   "source": [
    "#15.\tTake starting number and ending number from the user and print following series.\n",
    "#Output :-\n",
    "#Enter starting number : 30\n",
    "#Enter ending number : 0\n",
    "#30\n",
    "#27\n",
    "#24\n",
    "#21\n",
    "#18\n",
    "#15\n",
    "#12\n",
    "#9\n",
    "#6\n",
    "#3\n",
    "#0\n",
    "n1 = int(input(\"enter starting number: \"))\n",
    "n2 = int(input(\"enter ending number: \"))\n",
    "\n",
    "i=0\n",
    "for i in range(n1,n2-1,-3):\n",
    "    print(i)"
   ]
  },
  {
   "cell_type": "code",
   "execution_count": null,
   "id": "dfc03fe9",
   "metadata": {},
   "outputs": [],
   "source": []
  }
 ],
 "metadata": {
  "kernelspec": {
   "display_name": "Python 3",
   "language": "python",
   "name": "python3"
  },
  "language_info": {
   "codemirror_mode": {
    "name": "ipython",
    "version": 3
   },
   "file_extension": ".py",
   "mimetype": "text/x-python",
   "name": "python",
   "nbconvert_exporter": "python",
   "pygments_lexer": "ipython3",
   "version": "3.8.8"
  }
 },
 "nbformat": 4,
 "nbformat_minor": 5
}
