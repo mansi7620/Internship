{
 "cells": [
  {
   "cell_type": "code",
   "execution_count": 1,
   "id": "846a24eb",
   "metadata": {},
   "outputs": [
    {
     "name": "stdout",
     "output_type": "stream",
     "text": [
      "Hello World!\n",
      "Hello World!\n",
      "Hello World!\n"
     ]
    }
   ],
   "source": [
    "#declaration of function\n",
    "def func1():\n",
    "    print(\"Hello World!\")\n",
    "\n",
    "#calling function\n",
    "func1()\n",
    "func1()\n",
    "func1()"
   ]
  },
  {
   "cell_type": "code",
   "execution_count": 2,
   "id": "53f202d6",
   "metadata": {},
   "outputs": [
    {
     "name": "stdout",
     "output_type": "stream",
     "text": [
      "My name is Radha\n",
      "enter name:Mansi\n",
      "My name is Mansi\n"
     ]
    }
   ],
   "source": [
    "# Declaration of function with argument\n",
    "def func1(name):\n",
    "    print(\"My name is\",name)\n",
    "    \n",
    "func1(\"Radha\")\n",
    "#taking input\n",
    "def func1(name):\n",
    "    print(\"My name is\",name)\n",
    "    \n",
    "func1(input(\"enter name:\"))"
   ]
  },
  {
   "cell_type": "code",
   "execution_count": 3,
   "id": "b0f3189d",
   "metadata": {},
   "outputs": [
    {
     "name": "stdout",
     "output_type": "stream",
     "text": [
      "Radha\n",
      "------------------------\n",
      "Name: Radha\n",
      "Contact: 77777\n"
     ]
    }
   ],
   "source": [
    "# Declaration of function with return statement\n",
    "def func1(name):\n",
    "    return(name)\n",
    "    \n",
    "name=func1(\"Radha\")\n",
    "print(name)\n",
    "\n",
    "print(\"------------------------\")\n",
    "\n",
    "# multiple return statement\n",
    "def func1():\n",
    "    name=\"Radha\"\n",
    "    contact=\"77777\"\n",
    "    return name,contact\n",
    "\n",
    "name,contact=func1()\n",
    "print(\"Name:\",name)\n",
    "print(\"Contact:\",contact)"
   ]
  },
  {
   "cell_type": "code",
   "execution_count": 4,
   "id": "d3419954",
   "metadata": {},
   "outputs": [
    {
     "name": "stdout",
     "output_type": "stream",
     "text": [
      "3\n",
      "120\n",
      "------------------------\n",
      "Sum: 14\n",
      "------------------------\n",
      "Sum: 3\n",
      "Sum: 15\n",
      "------------------------\n",
      "Name Radha\n",
      "Lastname Raval\n"
     ]
    }
   ],
   "source": [
    "#function default argument\n",
    "def func1(a=1, b=2):\n",
    "    print(a+b)\n",
    "\n",
    "func1()            #calling without arguments\n",
    "func1(70,50)       #calling with arguments\n",
    "\n",
    "print(\"------------------------\")\n",
    "\n",
    "#function keyword argument\n",
    "def func2(a,b):\n",
    "    print(\"Sum:\",a+b)\n",
    "    \n",
    "func2(7,7)\n",
    "\n",
    "print(\"------------------------\")\n",
    "\n",
    "#function variable-length argument\n",
    "#non-keyword arguments \"*\" \n",
    "def func3(*num):\n",
    "    sum=0\n",
    "    \n",
    "    for i in num:\n",
    "        sum = sum + i\n",
    "    print(\"Sum:\",sum)\n",
    "    \n",
    "func3(1,2)\n",
    "func3(1,2,3,4,5)\n",
    "\n",
    "print(\"------------------------\")\n",
    "\n",
    "#keyword arguments \"**\"\n",
    "def func4(**arg):\n",
    "  \n",
    "    for i,j in arg.items():\n",
    "        print(i,j)\n",
    "    \n",
    "func4(Name=\"Radha\", Lastname=\"Raval\")"
   ]
  },
  {
   "cell_type": "code",
   "execution_count": 5,
   "id": "448c57a6",
   "metadata": {},
   "outputs": [
    {
     "name": "stdout",
     "output_type": "stream",
     "text": [
      "Value inside func. (local variable):  1\n",
      "Value outside func. (global variable):  10\n"
     ]
    }
   ],
   "source": [
    "#global and local variables\n",
    "x=10\n",
    "def func1():\n",
    "    x=1\n",
    "    print(\"Value inside func. (local variable): \",x)\n",
    "\n",
    "func1()\n",
    "print(\"Value outside func. (global variable): \",x)"
   ]
  },
  {
   "cell_type": "code",
   "execution_count": 6,
   "id": "fe4287c2",
   "metadata": {},
   "outputs": [
    {
     "name": "stdout",
     "output_type": "stream",
     "text": [
      "x+y =  20\n",
      "x-y =  0\n",
      "x*y =  100\n",
      "x/y =  1.0\n",
      "x**y =  10000000000\n",
      "x//y =  1\n",
      "------------------------\n",
      "x>y =  False\n",
      "x<y =  False\n",
      "x>=y =  True\n",
      "x<=y =  True\n",
      "x==y =  True\n",
      "x!=y =  False\n",
      "------------------------\n",
      "False\n",
      "True\n",
      "True\n",
      "False\n",
      "------------------------\n",
      "False\n",
      "True\n"
     ]
    }
   ],
   "source": [
    "#operators \n",
    "# 1. Arithmetic\n",
    "x=10\n",
    "y=10\n",
    "print('x+y = ',x+y)\n",
    "print(\"x-y = \",x-y)\n",
    "print(\"x*y = \",x*y)\n",
    "print(\"x/y = \",x/y)\n",
    "print(\"x**y = \",x**y)\n",
    "print(\"x//y = \",x//y)\n",
    "\n",
    "print(\"------------------------\")\n",
    "\n",
    "# 2. Comparison\n",
    "print('x>y = ',x>y)\n",
    "print(\"x<y = \",x<y)\n",
    "print(\"x>=y = \",x>=y)\n",
    "print(\"x<=y = \",x<=y)\n",
    "print(\"x==y = \",x==y)\n",
    "print(\"x!=y = \",x!=y)\n",
    "\n",
    "print(\"------------------------\")\n",
    "\n",
    "# 4. Membership\n",
    "x=10\n",
    "y=5\n",
    "list=[1,2,3,4,5]\n",
    "\n",
    "print(x in list)\n",
    "print(x not in list)\n",
    "print(y in list)\n",
    "print(y not in list)\n",
    "\n",
    "print(\"------------------------\")\n",
    "\n",
    "# 5. identity\n",
    "x=10\n",
    "y=20\n",
    "print(x is y)\n",
    "print(x is not y)"
   ]
  },
  {
   "cell_type": "code",
   "execution_count": null,
   "id": "f6742e9c",
   "metadata": {},
   "outputs": [],
   "source": []
  }
 ],
 "metadata": {
  "kernelspec": {
   "display_name": "Python 3",
   "language": "python",
   "name": "python3"
  },
  "language_info": {
   "codemirror_mode": {
    "name": "ipython",
    "version": 3
   },
   "file_extension": ".py",
   "mimetype": "text/x-python",
   "name": "python",
   "nbconvert_exporter": "python",
   "pygments_lexer": "ipython3",
   "version": "3.8.8"
  }
 },
 "nbformat": 4,
 "nbformat_minor": 5
}
