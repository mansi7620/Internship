{
 "cells": [
  {
   "cell_type": "code",
   "execution_count": 1,
   "id": "f18dd1a5",
   "metadata": {},
   "outputs": [
    {
     "name": "stdout",
     "output_type": "stream",
     "text": [
      "Enter n1 =5\n",
      "Enter n2 =7\n",
      "Enter n3 = 6\n",
      "Sum of n1+n2+n3 = 18\n"
     ]
    }
   ],
   "source": [
    "#Create a class cal1 that will calculate sum of three numbers. Create setdata() method which has three parameters that contain numbers. Create display() method that will calculate sum and display sum\n",
    "class cal1:\n",
    "    n1=n2=n3=\"\"\n",
    "    def setdata(self,n1,n2,n3):\n",
    "        self.n1= n1\n",
    "        self.n2=n2\n",
    "        self.n3=n3\n",
    "    def display(self):\n",
    "        sum = self.n1+self.n2+self.n3\n",
    "        print(\"Sum of n1+n2+n3 =\",sum)\n",
    "obj = cal1()\n",
    "obj.setdata(int(input(\"Enter n1 =\")),int(input(\"Enter n2 =\")),int(input(\"Enter n3 = \")))\n",
    "obj.display()"
   ]
  },
  {
   "cell_type": "code",
   "execution_count": 2,
   "id": "53463414",
   "metadata": {},
   "outputs": [
    {
     "name": "stdout",
     "output_type": "stream",
     "text": [
      "Enter radius of circle r = 7\n",
      "Area of circle having radius=7 is 153.938040\n"
     ]
    }
   ],
   "source": [
    "#Create a class cal2 that will calculate area of a circle. Create setdata() method that should take radius from the user. Create area() method that will calculate area . Create display() method that will display area .\n",
    "import math\n",
    "class cal2:\n",
    "    r=circle=\"\"\n",
    "    def setdata(self,r):\n",
    "        self.r= r\n",
    "    def area(self):\n",
    "        self.circle= math.pi*(self.r**2)\n",
    "    def display(self):\n",
    "        print(\"Area of circle having radius=%d is %f\"%(self.r,self.circle))\n",
    "obj = cal2()\n",
    "obj.setdata(int(input(\"Enter radius of circle r = \")))\n",
    "obj.area()\n",
    "obj.display()"
   ]
  },
  {
   "cell_type": "code",
   "execution_count": 3,
   "id": "66118fa8",
   "metadata": {},
   "outputs": [
    {
     "name": "stdout",
     "output_type": "stream",
     "text": [
      "Enter Principal amount = 5000\n",
      "enter number of years = 2\n",
      "Enter rate of interest = 2\n",
      "Simple-Interest =  200.0\n"
     ]
    }
   ],
   "source": [
    "#Create a class cal3 that will calculate simple interest. Create constructor method which has three parameters .Create calInterest() method that will calculate Interest . Create display() method that will display Interest.\n",
    "class cal3:\n",
    "    p=n=r=\"\"\n",
    "    si=\"\"\n",
    "    def __init__(self,p,n,r):\n",
    "        self.p,self.n,self.r=p,n,r\n",
    "    def callintrest(self):\n",
    "        self.si=(self.p * self.r * self.n)/100\n",
    "    def display(self):\n",
    "        print(\"Simple-Interest = \",self.si)\n",
    "obj = cal3(float(input(\"Enter Principal amount = \")),float(input(\"enter number of years = \")),float(input(\"Enter rate of interest = \")))\n",
    "obj.callintrest()\n",
    "obj.display()"
   ]
  },
  {
   "cell_type": "code",
   "execution_count": 4,
   "id": "11d7145c",
   "metadata": {},
   "outputs": [
    {
     "name": "stdout",
     "output_type": "stream",
     "text": [
      "Enter the number to be square= 7\n",
      "Square is = 49\n"
     ]
    }
   ],
   "source": [
    "#Create a class cal4 that will calculate square of a number. Create setdata() method which has one parameters that contain number. Create display() method that will calculate sum.(Function should return value)\n",
    "class cal4:\n",
    "    n1=sq=\"\"\n",
    "    def setdata(self,n1):\n",
    "        self.n1=n1\n",
    "    def display(self):\n",
    "        self.sq = self.n1**2\n",
    "        return 'Square is = '+str(self.sq)\n",
    "obj = cal4()\n",
    "obj.setdata(int(input(\"Enter the number to be square= \")))\n",
    "print(obj.display())"
   ]
  },
  {
   "cell_type": "code",
   "execution_count": 5,
   "id": "19fed841",
   "metadata": {},
   "outputs": [
    {
     "name": "stdout",
     "output_type": "stream",
     "text": [
      "Enter your name :Radha\n",
      "Enter your designation :CEO\n",
      "Enter your salary :500000\n",
      "Name = Radha\n",
      "Designation = CEO\n",
      "salary = 500000\n"
     ]
    }
   ],
   "source": [
    "#Consider an employee class, which contains fields such as name and designation. And a subclass, which contains a fieldsalary. Write a program for inheriting this relation.\n",
    "class employee:\n",
    "    name=designation=\"\"\n",
    "class subclass(employee):\n",
    "    salary=\"\"\n",
    "    def __init__(self,name,designation,salary):\n",
    "        self.name=name\n",
    "        self.designation = designation\n",
    "        self.salary =  salary\n",
    "    def display(self):\n",
    "        print(\"Name = \"+self.name)\n",
    "        print(\"Designation = \"+self.designation)\n",
    "        print(\"salary = \"+self.salary)\n",
    "obj = subclass(input(\"Enter your name :\"),input(\"Enter your designation :\"),input(\"Enter your salary :\"))\n",
    "obj.display()"
   ]
  },
  {
   "cell_type": "code",
   "execution_count": 6,
   "id": "d7db65a4",
   "metadata": {},
   "outputs": [
    {
     "name": "stdout",
     "output_type": "stream",
     "text": [
      "Enter length of rectangle = 7\n",
      "Enter breadth of rectangle = 6\n",
      "Area of rectangle is =  42.0\n"
     ]
    }
   ],
   "source": [
    "#Create a class cal5 that will calculate area of a rectangle. Create constructor method which has two parameters .Create calArea() method that will calculate area of a rectangle. Create display() method that will display area of a rectangle.\n",
    "class cal5:\n",
    "    l=b=\"\"\n",
    "    area=\"\"\n",
    "    def __init__(self,l,b):\n",
    "        self.l,self.b=l,b\n",
    "    def calArea(self):\n",
    "        self.area= self.l * self.b\n",
    "    def display(self):\n",
    "        print(\"Area of rectangle is = \",self.area)\n",
    "obj = cal5(float(input(\"Enter length of rectangle = \")),float(input(\"Enter breadth of rectangle = \")))\n",
    "obj.calArea()\n",
    "obj.display()"
   ]
  },
  {
   "cell_type": "code",
   "execution_count": 7,
   "id": "c0a8be35",
   "metadata": {},
   "outputs": [
    {
     "name": "stdout",
     "output_type": "stream",
     "text": [
      "Enter the number to be square= 7\n",
      "Square of given number is =  49\n"
     ]
    }
   ],
   "source": [
    "#Create a class cal6 that will calculate area of a square. Create setdata() method that should take length from the user. Create area() method that will calculate area . Create display() method that will display area \n",
    "class cal6:\n",
    "    n1=sq=\"\"\n",
    "    def setdata(self,n1):\n",
    "        self.n1=n1\n",
    "    def area(self):\n",
    "        self.sq = self.n1**2\n",
    "    def display(self):\n",
    "        print(\"Square of given number is = \",self.sq)\n",
    "        \n",
    "        \n",
    "obj = cal6()\n",
    "obj.setdata(int(input(\"Enter the number to be square= \")))\n",
    "obj.area()\n",
    "obj.display()"
   ]
  },
  {
   "cell_type": "code",
   "execution_count": 8,
   "id": "c3d66d27",
   "metadata": {},
   "outputs": [
    {
     "name": "stdout",
     "output_type": "stream",
     "text": [
      " Enter Title of book :bhagvat gita\n",
      "Enter pages of book :3000\n",
      "Book title is=bhagvat gita and book page numbers is =3000\n",
      "--------------------------------------------------------------------\n",
      " Enter Title of Tape :GITA\n",
      "Enter playing time of tape :7\n",
      " Tape title is = GITA and playing time = 7\n"
     ]
    }
   ],
   "source": [
    "#Write a program with use of inheritance: Define a class publisher that stores the name of the title. Derive two classes book and tape, which inherit publisher. Book class contains member data called page no and tape class contain time for playing. Define functions in the appropriate classes to get and print the details. \n",
    "class publisher:\n",
    "    title1=\"\"\n",
    "    title2=\"\"\n",
    "class book(publisher):\n",
    "    page_no=\"\"\n",
    "    def __init__(self,ti,pg):\n",
    "        self.title1=ti\n",
    "        self.page_no = pg\n",
    "    def display(self):\n",
    "        print(\"Book title is=\"+self.title1+\" and book page numbers is =\"+self.page_no)\n",
    "class tape(publisher):\n",
    "    time=\"\"\n",
    "    def __init__(self,title,time):\n",
    "        self.time=time\n",
    "        self.title2= title\n",
    "    def display(self):\n",
    "        print(\" Tape title is = \"+self.title2+\" and playing time = \"+self.time)\n",
    "\n",
    "book_obj = book(input(\" Enter Title of book :\"),input(\"Enter pages of book :\"))\n",
    "book_obj.display()\n",
    "print(\"--------------------------------------------------------------------\")\n",
    "tape_obj = tape(input(\" Enter Title of Tape :\"),input(\"Enter playing time of tape :\"))\n",
    "tape_obj.display()"
   ]
  },
  {
   "cell_type": "code",
   "execution_count": 9,
   "id": "0ff06ad3",
   "metadata": {},
   "outputs": [
    {
     "name": "stdout",
     "output_type": "stream",
     "text": [
      "---------------------input-----------------------\n",
      "Enter the details asked below about scheme:\n",
      "Enter Scheme ID :7\n",
      "Enter Scheme name :Sukaniya Vidhya Yojna\n",
      "Enter Outgoing Rate :7%\n",
      "Enter message charge :20,000\n",
      "Enter the details of Customer\n",
      "Enter customer Id :707\n",
      "Enter customer name :Radha\n",
      "Enter customer Number404\n",
      "-------------------- output -----------------------\n",
      "Scheme ID:  7\n",
      "Scheme Name:  Sukaniya Vidhya Yojna\n",
      "Outgoing Rate:  7%\n",
      "Message charge:  20,000\n",
      "Customer ID : 707\n",
      "Customer Name : Radha\n",
      "customer Mobile number : 404\n"
     ]
    }
   ],
   "source": [
    "#Create a class called scheme with scheme_id, scheme_name,outgoing_rate, and message_charge. Derive customer class form scheme and include cust_id, name and mobile_no data.Define necessary functions to read and display data.\n",
    "class scheme:\n",
    "    scheme_id=scheme_name=outgoing_rate=message_charge=\"\"\n",
    "class customer(scheme):\n",
    "    cust_id=name=mobile_no=\"\"\n",
    "    def read(self):\n",
    "        print(\"---------------------input-----------------------\")\n",
    "        print(\"Enter the details asked below about scheme:\")\n",
    "        self.scheme_id = input(\"Enter Scheme ID :\")\n",
    "        self.scheme_name = input(\"Enter Scheme name :\")\n",
    "        self.outgoing_rate =input(\"Enter Outgoing Rate :\")\n",
    "        self.message_charge = input(\"Enter message charge :\")\n",
    "        print(\"Enter the details of Customer\")\n",
    "        self.cust_id=input(\"Enter customer Id :\")\n",
    "        self.name = input(\"Enter customer name :\")\n",
    "        self.mob_no = input(\"Enter customer Number\")\n",
    "    def display(self):\n",
    "        print(\"-------------------- output -----------------------\")\n",
    "        print(\"Scheme ID: \",self.scheme_id)\n",
    "        print(\"Scheme Name: \",self.scheme_name)\n",
    "        print(\"Outgoing Rate: \",self.outgoing_rate)\n",
    "        print(\"Message charge: \",self.message_charge)\n",
    "        print(\"Customer ID :\",self.cust_id)\n",
    "        print(\"Customer Name :\",self.name)\n",
    "        print(\"customer Mobile number :\",self.mob_no)\n",
    "obj = customer()\n",
    "obj.read()\n",
    "obj.display()"
   ]
  },
  {
   "cell_type": "code",
   "execution_count": 10,
   "id": "62e32f09",
   "metadata": {},
   "outputs": [
    {
     "name": "stdout",
     "output_type": "stream",
     "text": [
      "Enter n1= 7\n",
      "Enter n2 = 6\n",
      "_____________________________________________________\n",
      "Addition of n1 + n2 = 13\n",
      "Subtraction of n1 - n2 = 1\n",
      "Multiplication of n1 * n2 = 42\n"
     ]
    }
   ],
   "source": [
    "#Create a arith class. The class should have a parameterizedconstructor and methods to add, subtract and multiply two numbers and to return the answers\n",
    "class Arith():\n",
    "    n1=n2=\"\"\n",
    "    def __init__(self,n1,n2):\n",
    "        self.n1=n1\n",
    "        self.n2=n2\n",
    "    def add(self):\n",
    "        ad = self.n1 + self.n2\n",
    "        return ad\n",
    "    def subtract(self):\n",
    "        sub = self.n1 - self.n2\n",
    "        return sub\n",
    "    def multiply(self):\n",
    "        mul = self.n1 * self.n2\n",
    "        return mul\n",
    "obj=Arith(int(input(\"Enter n1= \")),int(input(\"Enter n2 = \")))\n",
    "print(\"_____________________________________________________\")\n",
    "print(\"Addition of n1 + n2 =\",obj.add())\n",
    "print(\"Subtraction of n1 - n2 =\",obj.subtract())\n",
    "print(\"Multiplication of n1 * n2 =\",obj.multiply())"
   ]
  },
  {
   "cell_type": "code",
   "execution_count": null,
   "id": "a8a66b4c",
   "metadata": {},
   "outputs": [],
   "source": []
  }
 ],
 "metadata": {
  "kernelspec": {
   "display_name": "Python 3",
   "language": "python",
   "name": "python3"
  },
  "language_info": {
   "codemirror_mode": {
    "name": "ipython",
    "version": 3
   },
   "file_extension": ".py",
   "mimetype": "text/x-python",
   "name": "python",
   "nbconvert_exporter": "python",
   "pygments_lexer": "ipython3",
   "version": "3.8.8"
  }
 },
 "nbformat": 4,
 "nbformat_minor": 5
}
