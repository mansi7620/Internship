{
 "cells": [
  {
   "cell_type": "code",
   "execution_count": 1,
   "id": "bf491621",
   "metadata": {},
   "outputs": [
    {
     "name": "stdout",
     "output_type": "stream",
     "text": [
      "The average of numbers = 30.80\n"
     ]
    }
   ],
   "source": [
    "# 1.\tCalculate average of 5 numbers.\n",
    "\n",
    "# take inputs\n",
    "\n",
    "num1 = 7\n",
    "num2 = 5\n",
    "num3 = 55\n",
    "num4 = 77\n",
    "num5 = 10\n",
    "\n",
    "# calculate average\n",
    "avg = (num1 + num2 + num3 + num4 + num5) / 5\n",
    "\n",
    "# print average value\n",
    "print('The average of numbers = %0.2f' %avg)"
   ]
  },
  {
   "cell_type": "code",
   "execution_count": 2,
   "id": "30788191",
   "metadata": {},
   "outputs": [
    {
     "name": "stdout",
     "output_type": "stream",
     "text": [
      "Enter a number: 7\n",
      "7 is Odd\n"
     ]
    }
   ],
   "source": [
    "#2.\tCheck whether number is even or odd.\n",
    "# A number is even if division by 2 gives a remainder of 0.\n",
    "# If the remainder is 1, it is an odd number.\n",
    "\n",
    "num = int(input(\"Enter a number: \"))\n",
    "if (num % 2) == 0:\n",
    "   print(\"{0} is Even\".format(num))\n",
    "else:\n",
    "   print(\"{0} is Odd\".format(num))"
   ]
  },
  {
   "cell_type": "code",
   "execution_count": 3,
   "id": "2744129c",
   "metadata": {},
   "outputs": [
    {
     "name": "stdout",
     "output_type": "stream",
     "text": [
      "Enter a year: 2000\n",
      "2000 is a leap year\n"
     ]
    }
   ],
   "source": [
    "#3.\tTake a year and check whether it is leap year or not\n",
    "year = int(input(\"Enter a year: \"))  \n",
    "if (year % 4) == 0:  \n",
    "   if (year % 100) == 0:  \n",
    "       if (year % 400) == 0:  \n",
    "           print(\"{0} is a leap year\".format(year))  \n",
    "       else:  \n",
    "           print(\"{0} is not a leap year\".format(year))  \n",
    "   else:  \n",
    "       print(\"{0} is a leap year\".format(year))  \n",
    "else:  \n",
    "   print(\"{0} is not a leap year\".format(year))  "
   ]
  },
  {
   "cell_type": "code",
   "execution_count": 4,
   "id": "1342a141",
   "metadata": {},
   "outputs": [
    {
     "name": "stdout",
     "output_type": "stream",
     "text": [
      "Enter a number: 7.00\n",
      "7.0 is a positive number\n"
     ]
    }
   ],
   "source": [
    "#4.\tTake a number and check whether it is zero, positive or negative.\n",
    "num = float(input(\"Enter a number: \"))  \n",
    "  \n",
    "if num > 0:  \n",
    " print(\"{0} is a positive number\".format(num))  \n",
    "elif num == 0:  \n",
    "   print(\"{0} is zero\".format(num))   \n",
    "else:  \n",
    "   print(\"{0} is negative number\".format(num))  "
   ]
  },
  {
   "cell_type": "code",
   "execution_count": 5,
   "id": "9097ffe3",
   "metadata": {},
   "outputs": [
    {
     "name": "stdout",
     "output_type": "stream",
     "text": [
      "Enter first number: 5\n",
      "Enter second number: 6\n",
      "5  is lesser than  6\n"
     ]
    }
   ],
   "source": [
    "#5.\tTake 2 numbers and display greatest number. (Also check equal number condition)\n",
    "number1 = int(input(\"Enter first number: \"))\n",
    "number2 = int(input(\"Enter second number: \"))\n",
    "if (number1 == number2):\n",
    "\tprint(number1, \" is equal to \", number2)\n",
    "elif (number1 > number2):\n",
    "\tprint(number1, \" is larger than \", number2)\n",
    "else:\n",
    "\tprint(number1, \" is lesser than \", number2)"
   ]
  },
  {
   "cell_type": "code",
   "execution_count": 6,
   "id": "5f50e550",
   "metadata": {},
   "outputs": [
    {
     "name": "stdout",
     "output_type": "stream",
     "text": [
      "The factorial of 7 is 5040\n"
     ]
    }
   ],
   "source": [
    "# 6.\tTake a number and find factorial of that number.\n",
    "\n",
    "# change the value for a different result\n",
    "num = 7\n",
    "\n",
    "# To take input from the user\n",
    "#num = int(input(\"Enter a number: \"))\n",
    "\n",
    "factorial = 1\n",
    "\n",
    "# check if the number is negative, positive or zero\n",
    "if num < 0:\n",
    "   print(\"Sorry, factorial does not exist for negative numbers\")\n",
    "elif num == 0:\n",
    "   print(\"The factorial of 0 is 1\")\n",
    "else:\n",
    "   for i in range(1,num + 1):\n",
    "       factorial = factorial*i\n",
    "   print(\"The factorial of\",num,\"is\",factorial)"
   ]
  },
  {
   "cell_type": "code",
   "execution_count": 7,
   "id": "2230b077",
   "metadata": {},
   "outputs": [
    {
     "name": "stdout",
     "output_type": "stream",
     "text": [
      "Enter value of x: 7\n",
      "Enter value of y: 9\n",
      "The value of x after swapping: 9\n",
      "The value of y after swapping: 7\n"
     ]
    }
   ],
   "source": [
    "#7.\tWrite a program to swap 2 numbers using third variable.\n",
    "\n",
    "#x = 5\n",
    "#y = 10\n",
    "\n",
    "# To take inputs from the user\n",
    "x = input('Enter value of x: ')\n",
    "y = input('Enter value of y: ')\n",
    "\n",
    "# create a temporary variable and swap the values\n",
    "temp = x\n",
    "x = y\n",
    "y = temp\n",
    "\n",
    "print('The value of x after swapping: {}'.format(x))\n",
    "print('The value of y after swapping: {}'.format(y))"
   ]
  },
  {
   "cell_type": "code",
   "execution_count": 8,
   "id": "cc0b8a1b",
   "metadata": {},
   "outputs": [
    {
     "name": "stdout",
     "output_type": "stream",
     "text": [
      "Enter your first number:55\n",
      "Enter your second number: 77\n",
      "55 is smallest\n"
     ]
    }
   ],
   "source": [
    "# 8.\tTake 2 numbers and find smallest number.\n",
    "num1=int(input(\"Enter your first number:\"))\n",
    "num2=int(input(\"Enter your second number: \"))\n",
    "if(num1<num2):\n",
    "    print(\"{} is smallest\".format(num1))\n",
    "elif(num2<num1):\n",
    "    print(\"{} is smallest\".format(num2))\n",
    "else:\n",
    "    print(\"{} and {} are equal\".format(num1,num2))"
   ]
  },
  {
   "cell_type": "code",
   "execution_count": 9,
   "id": "dc7a3ea0",
   "metadata": {},
   "outputs": [
    {
     "name": "stdout",
     "output_type": "stream",
     "text": [
      "Enter a number: 5\n",
      "Positive number\n"
     ]
    }
   ],
   "source": [
    "# 11.\tTake a number and check whether it is zero, positive or negative using nested IF…ELSE statement .\n",
    " \n",
    "num = float(input(\"Enter a number: \"))\n",
    "if num >= 0:\n",
    "   if num == 0:\n",
    "       print(\"Zero\")\n",
    "   else:\n",
    "       print(\"Positive number\")\n",
    "else:\n",
    "   print(\"Negative number\")"
   ]
  },
  {
   "cell_type": "code",
   "execution_count": 10,
   "id": "66a5cf9b",
   "metadata": {},
   "outputs": [
    {
     "name": "stdout",
     "output_type": "stream",
     "text": [
      "Enter a number: 8\n",
      "Positive number\n"
     ]
    }
   ],
   "source": [
    "#  11.\tTake a number and check whether it is zero, positive or negative using nested IF…ELSE statement .\n",
    "\n",
    " num = float(input(\"Enter a number: \"))\n",
    "if num > 0:\n",
    "   print(\"Positive number\")\n",
    "elif num == 0:\n",
    "   print(\"Zero\")\n",
    "else:\n",
    "   print(\"Negative number\")"
   ]
  },
  {
   "cell_type": "code",
   "execution_count": 11,
   "id": "a776f2b3",
   "metadata": {},
   "outputs": [
    {
     "name": "stdout",
     "output_type": "stream",
     "text": [
      "Enter A: 5\n",
      "Enter B: 9\n",
      "Enter C: 7\n",
      "Greater  =  9\n"
     ]
    }
   ],
   "source": [
    "# 12.\tTake 3 numbers and find greatest number using nested IF….ELSE statement.\n",
    "a=int(input(\"Enter A: \"))\n",
    "b=int(input(\"Enter B: \"))\n",
    "c=int(input(\"Enter C: \"))\n",
    "\n",
    "# conditions to find largest \n",
    "if a>b:\n",
    "    if a>c:\n",
    "        g=a\n",
    "    else:\n",
    "        g=c\n",
    "else:\n",
    "    if b>c:\n",
    "        g=b\n",
    "    else:\n",
    "        g=c\n",
    "\n",
    "# print the largest number \n",
    "print(\"Greater  = \",g)"
   ]
  },
  {
   "cell_type": "code",
   "execution_count": 12,
   "id": "ea4c94f2",
   "metadata": {},
   "outputs": [
    {
     "name": "stdout",
     "output_type": "stream",
     "text": [
      "Enter the first number: 5\n",
      "Enter the second number: 9\n",
      "Enter the third number: 3\n",
      "3  is the smallest\n"
     ]
    }
   ],
   "source": [
    "# 13.\tTake 3 numbers and find smallest number using logical operator.\n",
    "num1=int(input(\"Enter the first number: \")) #Take input from user for first number--13\n",
    "num2=int(input(\"Enter the second number: \"))#Take input from user for second number\n",
    "num3=int(input(\"Enter the third number: \")) #Take input from user for third number\n",
    "if(num1<=num2 and num1<=num3):   #Compare the first number with the second and third number\n",
    "  print(num1,\" is the smallest\")\n",
    "elif(num2<=num1 and num2<=num3):#Compare the second number with the first and third number\n",
    "  print(num2,\" is the smallest\")\n",
    "else:\n",
    "    print(num3,\" is the smallest\")"
   ]
  },
  {
   "cell_type": "code",
   "execution_count": 13,
   "id": "f787a69a",
   "metadata": {},
   "outputs": [
    {
     "name": "stdout",
     "output_type": "stream",
     "text": [
      "Enter the value of x?8\n",
      "Enter the value of y?6\n",
      "before swapping numbers: 8   6\n",
      "\n",
      "After swapping: 6   8\n",
      "\n"
     ]
    }
   ],
   "source": [
    "# 14.\tWrite a program to swap 2 numbers without taking third variable.\n",
    "x = int(input(\"Enter the value of x?\")) \n",
    "y = int(input(\"Enter the value of y?\"))  \n",
    "print(\"before swapping numbers: %d   %d\\n\" %(x,y))  \n",
    "#swapping#  \n",
    "x = x + y     \n",
    "y = x - y    \n",
    "x = x - y     \n",
    "print(\"After swapping: %d   %d\\n\"%(x,y))  "
   ]
  },
  {
   "cell_type": "code",
   "execution_count": 14,
   "id": "90e27679",
   "metadata": {},
   "outputs": [
    {
     "name": "stdout",
     "output_type": "stream",
     "text": [
      "Input a number: 3\n",
      "30\n",
      "27\n",
      "24\n",
      "21\n",
      "18\n",
      "15\n",
      "12\n",
      "9\n",
      "6\n",
      "3\n"
     ]
    }
   ],
   "source": [
    "# 15.\tTake starting number and ending number from the user and print following series.\n",
    "n = int(input(\"Input a number: \"))\n",
    "\n",
    "# use for loop to iterate 10 times\n",
    "for i in range(10,0,-1):\n",
    "   print(n*i)\n",
    "   "
   ]
  },
  {
   "cell_type": "code",
   "execution_count": null,
   "id": "832530f5",
   "metadata": {},
   "outputs": [],
   "source": []
  }
 ],
 "metadata": {
  "kernelspec": {
   "display_name": "Python 3",
   "language": "python",
   "name": "python3"
  },
  "language_info": {
   "codemirror_mode": {
    "name": "ipython",
    "version": 3
   },
   "file_extension": ".py",
   "mimetype": "text/x-python",
   "name": "python",
   "nbconvert_exporter": "python",
   "pygments_lexer": "ipython3",
   "version": "3.8.8"
  }
 },
 "nbformat": 4,
 "nbformat_minor": 5
}
